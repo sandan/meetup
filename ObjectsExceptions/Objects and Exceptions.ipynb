{
 "cells": [
  {
   "cell_type": "markdown",
   "metadata": {},
   "source": [
    "# Objects and Exceptions\n",
    "\n",
    "In this talk we'll dive into python objects, inheritance, and exception handling. We'll apply these concepts to write an Exception Hierarchy."
   ]
  },
  {
   "cell_type": "code",
   "execution_count": 6,
   "metadata": {
    "collapsed": true
   },
   "outputs": [],
   "source": [
    "# https://docs.python.org/3/library/exceptions.html#exception-hierarchy\n",
    "    \n",
    "# BaseException\n",
    "# +-- SystemExit\n",
    "# +-- KeyboardInterrupt\n",
    "# +-- GeneratorExit\n",
    "# +-- Exception\n",
    "#      +-- StopIteration\n",
    "#      +-- StopAsyncIteration\n",
    "#      +-- ArithmeticError\n",
    "#      |    +-- FloatingPointError\n",
    "#      |    +-- OverflowError\n",
    "#      |    +-- ZeroDivisionError\n",
    "#      +-- AssertionError\n",
    "#      +-- AttributeError\n",
    "#      +-- BufferError\n",
    "#      +-- EOFError\n",
    "#      +-- ImportError\n",
    "#      +-- LookupError\n",
    "#      |    +-- IndexError\n",
    "#      |    +-- KeyError\n",
    "#      +-- MemoryError\n",
    "#      +-- NameError\n",
    "#      |    +-- UnboundLocalError\n",
    "#      +-- OSError\n",
    "#      |    +-- BlockingIOError\n",
    "#      |    +-- ChildProcessError\n",
    "#      |    +-- ConnectionError\n",
    "#      |    |    +-- BrokenPipeError\n",
    "#      |    |    +-- ConnectionAbortedError\n",
    "#      |    |    +-- ConnectionRefusedError\n",
    "#      |    |    +-- ConnectionResetError\n",
    "#      |    +-- FileExistsError\n",
    "#      |    +-- FileNotFoundError\n",
    "#      |    +-- InterruptedError\n",
    "#      |    +-- IsADirectoryError\n",
    "#      |    +-- NotADirectoryError\n",
    "#      |    +-- PermissionError\n",
    "#      |    +-- ProcessLookupError\n",
    "#      |    +-- TimeoutError\n",
    "#      +-- ReferenceError\n",
    "#      +-- RuntimeError\n",
    "#      |    +-- NotImplementedError\n",
    "#      |    +-- RecursionError\n",
    "#      +-- SyntaxError\n",
    "#      |    +-- IndentationError\n",
    "#      |         +-- TabError\n",
    "#      +-- SystemError\n",
    "#      +-- TypeError\n",
    "#      +-- ValueError\n",
    "#      |    +-- UnicodeError\n",
    "#      |         +-- UnicodeDecodeError\n",
    "#      |         +-- UnicodeEncodeError\n",
    "#      |         +-- UnicodeTranslateError\n",
    "#      +-- Warning\n",
    "#           +-- DeprecationWarning\n",
    "#           +-- PendingDeprecationWarning\n",
    "#           +-- RuntimeWarning\n",
    "#           +-- SyntaxWarning\n",
    "#           +-- UserWarning\n",
    "#           +-- FutureWarning\n",
    "#           +-- ImportWarning\n",
    "#           +-- UnicodeWarning\n",
    "#           +-- BytesWarning\n",
    "#           +-- ResourceWarning"
   ]
  },
  {
   "cell_type": "code",
   "execution_count": 7,
   "metadata": {
    "collapsed": false
   },
   "outputs": [
    {
     "ename": "Exception",
     "evalue": "('RARWRRWRWRW', '123')",
     "output_type": "error",
     "traceback": [
      "\u001b[0;31m---------------------------------------------------------------------------\u001b[0m",
      "\u001b[0;31mException\u001b[0m                                 Traceback (most recent call last)",
      "\u001b[0;32m<ipython-input-7-88794028252b>\u001b[0m in \u001b[0;36m<module>\u001b[0;34m()\u001b[0m\n\u001b[1;32m      6\u001b[0m \u001b[0;34m\u001b[0m\u001b[0m\n\u001b[1;32m      7\u001b[0m \u001b[0mt\u001b[0m \u001b[0;34m=\u001b[0m \u001b[0mException\u001b[0m\u001b[0;34m(\u001b[0m\u001b[0;34m\"RARWRRWRWRW\"\u001b[0m\u001b[0;34m,\u001b[0m \u001b[0;34m\"123\"\u001b[0m\u001b[0;34m)\u001b[0m\u001b[0;34m\u001b[0m\u001b[0m\n\u001b[0;32m----> 8\u001b[0;31m \u001b[0;32mraise\u001b[0m \u001b[0mt\u001b[0m\u001b[0;34m\u001b[0m\u001b[0m\n\u001b[0m",
      "\u001b[0;31mException\u001b[0m: ('RARWRRWRWRW', '123')"
     ]
    }
   ],
   "source": [
    "#!/usr/bin/env python3\n",
    "#--------------\n",
    "# ErrorsExceptions.py\n",
    "# https://docs.python.org/3/tutorial/errors.html\n",
    "#--------------\n",
    "\n",
    "t = Exception(\"RARWRRWRWRW\", \"123\")\n",
    "raise t"
   ]
  },
  {
   "cell_type": "code",
   "execution_count": 8,
   "metadata": {
    "collapsed": false
   },
   "outputs": [
    {
     "name": "stdout",
     "output_type": "stream",
     "text": [
      "syntax error! (['foo', 'bar'],)\n",
      "finally: always executed last\n"
     ]
    }
   ],
   "source": [
    "#!/usr/bin/env python3\n",
    "\n",
    "#--------------\n",
    "# HandlingExceptions.py\n",
    "#--------------\n",
    "\n",
    "try:\n",
    "    raise SyntaxError(['foo','bar'])           # force any exception\n",
    "    \n",
    "except SyntaxError as inst:                    # named instance\n",
    "    print(\"syntax error! {}\".format(inst.args))\n",
    "    \n",
    "except IOError:                                # anonymous\n",
    "    print(\"unhandled io error\")\n",
    "    \n",
    "except (UnicodeDecodeError, TypeError, NameError) as e:  # tuple\n",
    "    \n",
    "    if isinstance(e, UnicodeDecodeError):\n",
    "        print(\"unicode decode error\")\n",
    "    elif issubclass(type(e), TypeError):\n",
    "        print(\"type error\")\n",
    "    else:\n",
    "        print('name error')\n",
    "    \n",
    "except:                                        # default\n",
    "    print(\"Unexpected exception raised\")\n",
    "    raise        # bare raise will re-raise the exception thrown\n",
    "    \n",
    "else:                                          # optional else\n",
    "    print(\"else: executes code if no exception is raised in try\")\n",
    "    \n",
    "finally:                                       # optional finally\n",
    "    print(\"finally: always executed last\")\n",
    "    \n",
    "#Note: \n",
    "# You can only catch SyntaxError if it's thrown doing an eval or exec operation or raised\n",
    "# You can nest try/except-else-finally blocks in any of the try/except/else/finally clauses\n",
    "# At most one except clause will be executed per try/except-else-finally block\n",
    "# An except clause will catch only exceptions thrown in the try clause (even indirectly)\n",
    "# An exception matches if its class is a subclass of the specified exception(s)\n",
    "# The first except clause that matches will be executed\n"
   ]
  },
  {
   "cell_type": "code",
   "execution_count": 9,
   "metadata": {
    "collapsed": false
   },
   "outputs": [
    {
     "name": "stdout",
     "output_type": "stream",
     "text": [
      "True\n"
     ]
    }
   ],
   "source": [
    "def push(q, item):\n",
    "    raise Exception\n",
    "\n",
    "def assertRaises(exception, func, *args):\n",
    "    \"\"\"\n",
    "    returns True if func(args) raises exception else False\n",
    "    \"\"\"\n",
    "    try:\n",
    "        func(*args)        # push([],'arg')\n",
    "    except exception as e:\n",
    "        return True\n",
    "    except:\n",
    "        return False\n",
    "    else:\n",
    "        return False\n",
    "\n",
    "print(assertRaises(Exception, push, [], 'arg'))"
   ]
  },
  {
   "cell_type": "code",
   "execution_count": 10,
   "metadata": {
    "collapsed": false
   },
   "outputs": [],
   "source": [
    "# exception hierarchy example\n",
    "\n",
    "# inheritance\n",
    "class TeradataException(Exception):\n",
    "    pass\n",
    "\n",
    "class RetryableError(TeradataException):\n",
    "    \n",
    "    def f(self):\n",
    "        print('RetryableError')\n",
    "\n",
    "class SystemError(TeradataException):\n",
    "    \n",
    "    def f(self):\n",
    "        print('SystemError')\n",
    "\n",
    "class DBSError(RetryableError):\n",
    "    \n",
    "    # override\n",
    "    def f(self):\n",
    "        print('DBSError')\n",
    "\n",
    "class PDEError(SystemError):\n",
    "    \n",
    "    # override\n",
    "    def f(self):\n",
    "        print('PDEError')\n",
    "        \n",
    "# multiple inheritance\n",
    "class TestError(PDEError, DBSError):\n",
    "    pass\n"
   ]
  },
  {
   "cell_type": "markdown",
   "metadata": {},
   "source": [
    "\n",
    "\n",
    "\n",
    "\n",
    "\n",
    "\n",
    "\n",
    "\n",
    "\n",
    "![alt text](./ObjectsExceptions.png 'Exception Hierarchy')"
   ]
  },
  {
   "cell_type": "code",
   "execution_count": 11,
   "metadata": {
    "collapsed": false
   },
   "outputs": [
    {
     "name": "stdout",
     "output_type": "stream",
     "text": [
      "PDEError\n"
     ]
    }
   ],
   "source": [
    "# exception resolution\n",
    "try:\n",
    "    raise TestError()\n",
    "    \n",
    "except RetryableError as e:\n",
    "    e.f()\n",
    "\n",
    "except TeradataException as tde:\n",
    "    print('TeradataException')\n",
    "    \n",
    "except:\n",
    "    print('Unhandled')\n",
    "    \n",
    "else:\n",
    "    print('No exception thrown')"
   ]
  },
  {
   "cell_type": "code",
   "execution_count": 4,
   "metadata": {
    "collapsed": false
   },
   "outputs": [
    {
     "data": {
      "text/plain": [
       "[__main__.TestError,\n",
       " __main__.PDEError,\n",
       " __main__.SystemError,\n",
       " __main__.DBSError,\n",
       " __main__.RetryableError,\n",
       " __main__.TeradataException,\n",
       " Exception,\n",
       " BaseException,\n",
       " object]"
      ]
     },
     "execution_count": 4,
     "metadata": {},
     "output_type": "execute_result"
    }
   ],
   "source": [
    "# method resolution\n",
    "TestError.mro()"
   ]
  },
  {
   "cell_type": "code",
   "execution_count": 5,
   "metadata": {
    "collapsed": false
   },
   "outputs": [
    {
     "name": "stdout",
     "output_type": "stream",
     "text": [
      "Help on built-in function mro:\n",
      "\n",
      "mro(...) method of builtins.type instance\n",
      "    mro() -> list\n",
      "    return a type's method resolution order\n",
      "\n"
     ]
    }
   ],
   "source": [
    "help(TestError.mro)\n",
    "\n",
    "# The class that comes first in the list has precedence over classes that come later"
   ]
  }
 ],
 "metadata": {
  "kernelspec": {
   "display_name": "Python 3",
   "language": "python",
   "name": "python3"
  },
  "language_info": {
   "codemirror_mode": {
    "name": "ipython",
    "version": 3
   },
   "file_extension": ".py",
   "mimetype": "text/x-python",
   "name": "python",
   "nbconvert_exporter": "python",
   "pygments_lexer": "ipython3",
   "version": "3.5.1"
  }
 },
 "nbformat": 4,
 "nbformat_minor": 0
}
