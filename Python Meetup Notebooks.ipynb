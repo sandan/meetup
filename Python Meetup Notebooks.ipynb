{
 "cells": [
  {
   "cell_type": "markdown",
   "metadata": {},
   "source": [
    "# Open Source Libraries\n",
    "* matplotlib\n",
    "* [seaborn](https://stanford.edu/~mwaskom/software/seaborn/examples/index.html)\n",
    "* [bokeh](http://bokeh.pydata.org/en/latest/docs/gallery.html#gallery)\n",
    "* sklearn\n",
    "* numpy\n",
    "* pandas\n",
    "* sqlalchemy-teradata / sqlalchemy\n",
    "\n",
    "# Standard Libraries\n",
    "* itertools - higher order functions\n",
    "* multiprocessing - mult=process library\n",
    "* sys and os\n",
    "* inspect\n",
    "\n",
    "# Tooling\n",
    "* IDEs / Editor plug-ins\n",
    "* Jupyter Notebook\n",
    "* IPython\n",
    "* Pylint\n",
    "\n",
    "# Advanced Python\n",
    "* Interfacing with C via Python\n",
    "* Interfacing with Python via C\n",
    "* Network I/O\n",
    "* inheritance and method resolution order\n",
    "\n",
    "# Python Fundamentals (Intermediate)\n",
    "* functions: anonymous functions (lambdas) and function objects (callables).\n",
    "* decorators\n",
    "* generators and the yield keyword\n",
    "* iterators and iterables\n",
    "\n",
    "\n",
    "# Basic Python\n",
    "* functions and classes\n",
    "* built-in types: strings, numeric, and date\n",
    "* standard lib types: json, lists, tuples, dictionary, set\n",
    "* exceptions\n",
    "* File I/O"
   ]
  },
  {
   "cell_type": "code",
   "execution_count": null,
   "metadata": {
    "collapsed": true
   },
   "outputs": [],
   "source": []
  }
 ],
 "metadata": {
  "kernelspec": {
   "display_name": "Python 3",
   "language": "python",
   "name": "python3"
  },
  "language_info": {
   "codemirror_mode": {
    "name": "ipython",
    "version": 3
   },
   "file_extension": ".py",
   "mimetype": "text/x-python",
   "name": "python",
   "nbconvert_exporter": "python",
   "pygments_lexer": "ipython3",
   "version": "3.5.2"
  }
 },
 "nbformat": 4,
 "nbformat_minor": 1
}
